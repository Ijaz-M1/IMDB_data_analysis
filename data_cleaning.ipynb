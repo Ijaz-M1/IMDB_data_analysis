{
 "cells": [
  {
   "cell_type": "code",
   "execution_count": 10,
   "metadata": {},
   "outputs": [
    {
     "name": "stdout",
     "output_type": "stream",
     "text": [
      "  IMBD title ID            Original title Release year         Genre Duration  \\\n",
      "0     tt0111161  The Shawshank Redemption   1995-02-10         Drama      142   \n",
      "1     tt0068646             The Godfather   09 21 1972  Crime, Drama      175   \n",
      "\n",
      "  Country Content Rating              Director  Unnamed: 8       Income  \\\n",
      "0     USA              R        Frank Darabont         NaN   $ 28815245   \n",
      "1     USA              R  Francis Ford Coppola         NaN  $ 246120974   \n",
      "\n",
      "      Votes  Score  \n",
      "0  2.278.845   9.3  \n",
      "1  1.572.674   9.2  \n"
     ]
    }
   ],
   "source": [
    "import pandas as pd\n",
    "\n",
    "df = pd.read_csv('IMDB.csv', delimiter=';')\n",
    "\n",
    "print(df.head(2))\n"
   ]
  }
 ],
 "metadata": {
  "kernelspec": {
   "display_name": "Python 3",
   "language": "python",
   "name": "python3"
  },
  "language_info": {
   "codemirror_mode": {
    "name": "ipython",
    "version": 3
   },
   "file_extension": ".py",
   "mimetype": "text/x-python",
   "name": "python",
   "nbconvert_exporter": "python",
   "pygments_lexer": "ipython3",
   "version": "3.12.0"
  }
 },
 "nbformat": 4,
 "nbformat_minor": 2
}
