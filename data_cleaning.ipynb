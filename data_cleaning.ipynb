{
 "cells": [
  {
   "cell_type": "code",
   "execution_count": 62,
   "metadata": {},
   "outputs": [],
   "source": [
    "# import libraries\n",
    "import pandas as pd\n",
    "import numpy as np\n",
    "import matplotlib.pyplot as plt"
   ]
  },
  {
   "cell_type": "code",
   "execution_count": 63,
   "metadata": {},
   "outputs": [],
   "source": [
    "# read the csv file\n",
    "try:\n",
    "    df = pd.read_csv('IMDB.csv', delimiter=';')\n",
    "except FileNotFoundError as fnfe:\n",
    "    print(f\"The requested file was not found - {fnfe}\")"
   ]
  },
  {
   "cell_type": "markdown",
   "metadata": {},
   "source": [
    "# Step 1 - Understanding the data"
   ]
  },
  {
   "cell_type": "code",
   "execution_count": 64,
   "metadata": {},
   "outputs": [
    {
     "data": {
      "text/plain": [
       "(101, 12)"
      ]
     },
     "execution_count": 64,
     "metadata": {},
     "output_type": "execute_result"
    }
   ],
   "source": [
    "# shape of csv\n",
    "# shows no.rows and no.column\n",
    "df.shape"
   ]
  },
  {
   "cell_type": "code",
   "execution_count": 65,
   "metadata": {},
   "outputs": [
    {
     "data": {
      "text/html": [
       "<div>\n",
       "<style scoped>\n",
       "    .dataframe tbody tr th:only-of-type {\n",
       "        vertical-align: middle;\n",
       "    }\n",
       "\n",
       "    .dataframe tbody tr th {\n",
       "        vertical-align: top;\n",
       "    }\n",
       "\n",
       "    .dataframe thead th {\n",
       "        text-align: right;\n",
       "    }\n",
       "</style>\n",
       "<table border=\"1\" class=\"dataframe\">\n",
       "  <thead>\n",
       "    <tr style=\"text-align: right;\">\n",
       "      <th></th>\n",
       "      <th>IMBD title ID</th>\n",
       "      <th>Original title</th>\n",
       "      <th>Release year</th>\n",
       "      <th>Genre</th>\n",
       "      <th>Duration</th>\n",
       "      <th>Country</th>\n",
       "      <th>Content Rating</th>\n",
       "      <th>Director</th>\n",
       "      <th>Unnamed: 8</th>\n",
       "      <th>Income</th>\n",
       "      <th>Votes</th>\n",
       "      <th>Score</th>\n",
       "    </tr>\n",
       "  </thead>\n",
       "  <tbody>\n",
       "    <tr>\n",
       "      <th>0</th>\n",
       "      <td>tt0111161</td>\n",
       "      <td>The Shawshank Redemption</td>\n",
       "      <td>1995-02-10</td>\n",
       "      <td>Drama</td>\n",
       "      <td>142</td>\n",
       "      <td>USA</td>\n",
       "      <td>R</td>\n",
       "      <td>Frank Darabont</td>\n",
       "      <td>NaN</td>\n",
       "      <td>$ 28815245</td>\n",
       "      <td>2.278.845</td>\n",
       "      <td>9.3</td>\n",
       "    </tr>\n",
       "    <tr>\n",
       "      <th>1</th>\n",
       "      <td>tt0068646</td>\n",
       "      <td>The Godfather</td>\n",
       "      <td>09 21 1972</td>\n",
       "      <td>Crime, Drama</td>\n",
       "      <td>175</td>\n",
       "      <td>USA</td>\n",
       "      <td>R</td>\n",
       "      <td>Francis Ford Coppola</td>\n",
       "      <td>NaN</td>\n",
       "      <td>$ 246120974</td>\n",
       "      <td>1.572.674</td>\n",
       "      <td>9.2</td>\n",
       "    </tr>\n",
       "    <tr>\n",
       "      <th>2</th>\n",
       "      <td>tt0468569</td>\n",
       "      <td>The Dark Knight</td>\n",
       "      <td>23 -07-2008</td>\n",
       "      <td>Action, Crime, Drama</td>\n",
       "      <td>152</td>\n",
       "      <td>US</td>\n",
       "      <td>PG-13</td>\n",
       "      <td>Christopher Nolan</td>\n",
       "      <td>NaN</td>\n",
       "      <td>$ 1005455211</td>\n",
       "      <td>2.241.615</td>\n",
       "      <td>9.</td>\n",
       "    </tr>\n",
       "    <tr>\n",
       "      <th>3</th>\n",
       "      <td>tt0071562</td>\n",
       "      <td>The Godfather: Part II</td>\n",
       "      <td>1975-09-25</td>\n",
       "      <td>Crime, Drama</td>\n",
       "      <td>220</td>\n",
       "      <td>USA</td>\n",
       "      <td>R</td>\n",
       "      <td>Francis Ford Coppola</td>\n",
       "      <td>NaN</td>\n",
       "      <td>$ 4o8,035,783</td>\n",
       "      <td>1.098.714</td>\n",
       "      <td>9,.0</td>\n",
       "    </tr>\n",
       "    <tr>\n",
       "      <th>4</th>\n",
       "      <td>tt0110912</td>\n",
       "      <td>Pulp Fiction</td>\n",
       "      <td>1994-10-28</td>\n",
       "      <td>Crime, Drama</td>\n",
       "      <td></td>\n",
       "      <td>USA</td>\n",
       "      <td>R</td>\n",
       "      <td>Quentin Tarantino</td>\n",
       "      <td>NaN</td>\n",
       "      <td>$ 222831817</td>\n",
       "      <td>1.780.147</td>\n",
       "      <td>8,9f</td>\n",
       "    </tr>\n",
       "  </tbody>\n",
       "</table>\n",
       "</div>"
      ],
      "text/plain": [
       "  IMBD title ID            Original title  Release year                 Genre  \\\n",
       "0     tt0111161  The Shawshank Redemption    1995-02-10                 Drama   \n",
       "1     tt0068646             The Godfather    09 21 1972          Crime, Drama   \n",
       "2     tt0468569           The Dark Knight   23 -07-2008  Action, Crime, Drama   \n",
       "3     tt0071562    The Godfather: Part II    1975-09-25          Crime, Drama   \n",
       "4     tt0110912              Pulp Fiction    1994-10-28          Crime, Drama   \n",
       "\n",
       "  Duration Country Content Rating              Director  Unnamed: 8  \\\n",
       "0      142     USA              R        Frank Darabont         NaN   \n",
       "1      175     USA              R  Francis Ford Coppola         NaN   \n",
       "2      152      US          PG-13     Christopher Nolan         NaN   \n",
       "3      220     USA              R  Francis Ford Coppola         NaN   \n",
       "4              USA              R     Quentin Tarantino         NaN   \n",
       "\n",
       "          Income     Votes  Score  \n",
       "0     $ 28815245  2.278.845   9.3  \n",
       "1    $ 246120974  1.572.674   9.2  \n",
       "2   $ 1005455211  2.241.615    9.  \n",
       "3  $ 4o8,035,783  1.098.714  9,.0  \n",
       "4    $ 222831817  1.780.147  8,9f  "
      ]
     },
     "execution_count": 65,
     "metadata": {},
     "output_type": "execute_result"
    }
   ],
   "source": [
    "# display first 5 rows of dataset\n",
    "df.head()"
   ]
  },
  {
   "cell_type": "code",
   "execution_count": 66,
   "metadata": {},
   "outputs": [
    {
     "data": {
      "text/plain": [
       "Index(['IMBD title ID', 'Original title', 'Release year', 'Genre', 'Duration',\n",
       "       'Country', 'Content Rating', 'Director', 'Unnamed: 8', 'Income',\n",
       "       ' Votes ', 'Score'],\n",
       "      dtype='object')"
      ]
     },
     "execution_count": 66,
     "metadata": {},
     "output_type": "execute_result"
    }
   ],
   "source": [
    "# display all columns\n",
    "df.columns"
   ]
  },
  {
   "cell_type": "code",
   "execution_count": 67,
   "metadata": {},
   "outputs": [
    {
     "data": {
      "text/plain": [
       "IMBD title ID      object\n",
       "Original title     object\n",
       "Release year       object\n",
       "Genre              object\n",
       "Duration           object\n",
       "Country            object\n",
       "Content Rating     object\n",
       "Director           object\n",
       "Unnamed: 8        float64\n",
       "Income             object\n",
       " Votes             object\n",
       "Score              object\n",
       "dtype: object"
      ]
     },
     "execution_count": 67,
     "metadata": {},
     "output_type": "execute_result"
    }
   ],
   "source": [
    "# list data type for each column\n",
    "df.dtypes"
   ]
  },
  {
   "cell_type": "markdown",
   "metadata": {},
   "source": [
    "# Step 2 - Transform the data"
   ]
  },
  {
   "cell_type": "code",
   "execution_count": 68,
   "metadata": {},
   "outputs": [
    {
     "data": {
      "text/html": [
       "<div>\n",
       "<style scoped>\n",
       "    .dataframe tbody tr th:only-of-type {\n",
       "        vertical-align: middle;\n",
       "    }\n",
       "\n",
       "    .dataframe tbody tr th {\n",
       "        vertical-align: top;\n",
       "    }\n",
       "\n",
       "    .dataframe thead th {\n",
       "        text-align: right;\n",
       "    }\n",
       "</style>\n",
       "<table border=\"1\" class=\"dataframe\">\n",
       "  <thead>\n",
       "    <tr style=\"text-align: right;\">\n",
       "      <th></th>\n",
       "      <th>IMBD title ID</th>\n",
       "      <th>Original title</th>\n",
       "      <th>Release year</th>\n",
       "      <th>Genre</th>\n",
       "      <th>Duration</th>\n",
       "      <th>Country</th>\n",
       "      <th>Content Rating</th>\n",
       "      <th>Director</th>\n",
       "      <th>Unnamed: 8</th>\n",
       "      <th>Income</th>\n",
       "      <th>Votes</th>\n",
       "      <th>Score</th>\n",
       "    </tr>\n",
       "  </thead>\n",
       "  <tbody>\n",
       "    <tr>\n",
       "      <th>0</th>\n",
       "      <td>tt0111161</td>\n",
       "      <td>The Shawshank Redemption</td>\n",
       "      <td>1995-02-10</td>\n",
       "      <td>Drama</td>\n",
       "      <td>142</td>\n",
       "      <td>USA</td>\n",
       "      <td>R</td>\n",
       "      <td>Frank Darabont</td>\n",
       "      <td>NaN</td>\n",
       "      <td>$ 28815245</td>\n",
       "      <td>2.278.845</td>\n",
       "      <td>9.3</td>\n",
       "    </tr>\n",
       "    <tr>\n",
       "      <th>1</th>\n",
       "      <td>tt0068646</td>\n",
       "      <td>The Godfather</td>\n",
       "      <td>09 21 1972</td>\n",
       "      <td>Crime, Drama</td>\n",
       "      <td>175</td>\n",
       "      <td>USA</td>\n",
       "      <td>R</td>\n",
       "      <td>Francis Ford Coppola</td>\n",
       "      <td>NaN</td>\n",
       "      <td>$ 246120974</td>\n",
       "      <td>1.572.674</td>\n",
       "      <td>9.2</td>\n",
       "    </tr>\n",
       "    <tr>\n",
       "      <th>2</th>\n",
       "      <td>tt0468569</td>\n",
       "      <td>The Dark Knight</td>\n",
       "      <td>23 -07-2008</td>\n",
       "      <td>Action, Crime, Drama</td>\n",
       "      <td>152</td>\n",
       "      <td>US</td>\n",
       "      <td>PG-13</td>\n",
       "      <td>Christopher Nolan</td>\n",
       "      <td>NaN</td>\n",
       "      <td>$ 1005455211</td>\n",
       "      <td>2.241.615</td>\n",
       "      <td>9.</td>\n",
       "    </tr>\n",
       "    <tr>\n",
       "      <th>3</th>\n",
       "      <td>tt0071562</td>\n",
       "      <td>The Godfather: Part II</td>\n",
       "      <td>1975-09-25</td>\n",
       "      <td>Crime, Drama</td>\n",
       "      <td>220</td>\n",
       "      <td>USA</td>\n",
       "      <td>R</td>\n",
       "      <td>Francis Ford Coppola</td>\n",
       "      <td>NaN</td>\n",
       "      <td>$ 4o8,035,783</td>\n",
       "      <td>1.098.714</td>\n",
       "      <td>9,.0</td>\n",
       "    </tr>\n",
       "    <tr>\n",
       "      <th>4</th>\n",
       "      <td>tt0110912</td>\n",
       "      <td>Pulp Fiction</td>\n",
       "      <td>1994-10-28</td>\n",
       "      <td>Crime, Drama</td>\n",
       "      <td></td>\n",
       "      <td>USA</td>\n",
       "      <td>R</td>\n",
       "      <td>Quentin Tarantino</td>\n",
       "      <td>NaN</td>\n",
       "      <td>$ 222831817</td>\n",
       "      <td>1.780.147</td>\n",
       "      <td>8,9f</td>\n",
       "    </tr>\n",
       "    <tr>\n",
       "      <th>...</th>\n",
       "      <td>...</td>\n",
       "      <td>...</td>\n",
       "      <td>...</td>\n",
       "      <td>...</td>\n",
       "      <td>...</td>\n",
       "      <td>...</td>\n",
       "      <td>...</td>\n",
       "      <td>...</td>\n",
       "      <td>...</td>\n",
       "      <td>...</td>\n",
       "      <td>...</td>\n",
       "      <td>...</td>\n",
       "    </tr>\n",
       "    <tr>\n",
       "      <th>96</th>\n",
       "      <td>tt0070735</td>\n",
       "      <td>The Sting</td>\n",
       "      <td>1974-03-21</td>\n",
       "      <td>Comedy, Crime, Drama</td>\n",
       "      <td>129</td>\n",
       "      <td>USA</td>\n",
       "      <td>PG</td>\n",
       "      <td>George Roy Hill</td>\n",
       "      <td>NaN</td>\n",
       "      <td>$ 156000000</td>\n",
       "      <td>236.285</td>\n",
       "      <td>7.5</td>\n",
       "    </tr>\n",
       "    <tr>\n",
       "      <th>97</th>\n",
       "      <td>tt0082096</td>\n",
       "      <td>Das Boot</td>\n",
       "      <td>1982-03-18</td>\n",
       "      <td>Adventure, Drama, Thriller</td>\n",
       "      <td>149</td>\n",
       "      <td>West Germany</td>\n",
       "      <td>R</td>\n",
       "      <td>Wolfgang Petersen</td>\n",
       "      <td>NaN</td>\n",
       "      <td>$ 11487676</td>\n",
       "      <td>226.427</td>\n",
       "      <td>7.5</td>\n",
       "    </tr>\n",
       "    <tr>\n",
       "      <th>98</th>\n",
       "      <td>tt0059578</td>\n",
       "      <td>Per qualche dollaro in più</td>\n",
       "      <td>1965-12-20</td>\n",
       "      <td>Western</td>\n",
       "      <td>132</td>\n",
       "      <td>Italy</td>\n",
       "      <td>NaN</td>\n",
       "      <td>Sergio Leone</td>\n",
       "      <td>NaN</td>\n",
       "      <td>$ 15000000</td>\n",
       "      <td>226.039</td>\n",
       "      <td>7.4</td>\n",
       "    </tr>\n",
       "    <tr>\n",
       "      <th>99</th>\n",
       "      <td>tt1832382</td>\n",
       "      <td>Jodaeiye Nader az Simin</td>\n",
       "      <td>2011-10-21</td>\n",
       "      <td>Drama</td>\n",
       "      <td>123</td>\n",
       "      <td>Iran</td>\n",
       "      <td>PG-13</td>\n",
       "      <td>Asghar Farhadi</td>\n",
       "      <td>NaN</td>\n",
       "      <td>$ 22926076</td>\n",
       "      <td>214.165</td>\n",
       "      <td>7.4</td>\n",
       "    </tr>\n",
       "    <tr>\n",
       "      <th>100</th>\n",
       "      <td>tt0045152</td>\n",
       "      <td>Singin' in the Rain</td>\n",
       "      <td>1953-02-05</td>\n",
       "      <td>Comedy, Musical, Romance</td>\n",
       "      <td>103</td>\n",
       "      <td>USA</td>\n",
       "      <td>NaN</td>\n",
       "      <td>Stanley Donen</td>\n",
       "      <td>NaN</td>\n",
       "      <td>$ 1864182</td>\n",
       "      <td>213.152</td>\n",
       "      <td>7.4</td>\n",
       "    </tr>\n",
       "  </tbody>\n",
       "</table>\n",
       "<p>101 rows × 12 columns</p>\n",
       "</div>"
      ],
      "text/plain": [
       "    IMBD title ID              Original title  Release year  \\\n",
       "0       tt0111161    The Shawshank Redemption    1995-02-10   \n",
       "1       tt0068646               The Godfather    09 21 1972   \n",
       "2       tt0468569             The Dark Knight   23 -07-2008   \n",
       "3       tt0071562      The Godfather: Part II    1975-09-25   \n",
       "4       tt0110912                Pulp Fiction    1994-10-28   \n",
       "..            ...                         ...           ...   \n",
       "96      tt0070735                   The Sting    1974-03-21   \n",
       "97      tt0082096                    Das Boot    1982-03-18   \n",
       "98      tt0059578  Per qualche dollaro in più    1965-12-20   \n",
       "99      tt1832382     Jodaeiye Nader az Simin    2011-10-21   \n",
       "100     tt0045152         Singin' in the Rain    1953-02-05   \n",
       "\n",
       "                          Genre Duration       Country Content Rating  \\\n",
       "0                         Drama      142           USA              R   \n",
       "1                  Crime, Drama      175           USA              R   \n",
       "2          Action, Crime, Drama      152            US          PG-13   \n",
       "3                  Crime, Drama      220           USA              R   \n",
       "4                  Crime, Drama                    USA              R   \n",
       "..                          ...      ...           ...            ...   \n",
       "96         Comedy, Crime, Drama      129           USA             PG   \n",
       "97   Adventure, Drama, Thriller      149  West Germany              R   \n",
       "98                      Western      132         Italy            NaN   \n",
       "99                        Drama      123          Iran          PG-13   \n",
       "100    Comedy, Musical, Romance      103           USA            NaN   \n",
       "\n",
       "                 Director  Unnamed: 8         Income     Votes  Score  \n",
       "0          Frank Darabont         NaN     $ 28815245  2.278.845   9.3  \n",
       "1    Francis Ford Coppola         NaN    $ 246120974  1.572.674   9.2  \n",
       "2       Christopher Nolan         NaN   $ 1005455211  2.241.615    9.  \n",
       "3    Francis Ford Coppola         NaN  $ 4o8,035,783  1.098.714  9,.0  \n",
       "4       Quentin Tarantino         NaN    $ 222831817  1.780.147  8,9f  \n",
       "..                    ...         ...            ...        ...   ...  \n",
       "96        George Roy Hill         NaN    $ 156000000    236.285   7.5  \n",
       "97      Wolfgang Petersen         NaN     $ 11487676    226.427   7.5  \n",
       "98           Sergio Leone         NaN     $ 15000000    226.039   7.4  \n",
       "99         Asghar Farhadi         NaN     $ 22926076    214.165   7.4  \n",
       "100         Stanley Donen         NaN      $ 1864182    213.152   7.4  \n",
       "\n",
       "[101 rows x 12 columns]"
      ]
     },
     "execution_count": 68,
     "metadata": {},
     "output_type": "execute_result"
    }
   ],
   "source": [
    "df"
   ]
  },
  {
   "cell_type": "code",
   "execution_count": 69,
   "metadata": {},
   "outputs": [
    {
     "data": {
      "text/html": [
       "<div>\n",
       "<style scoped>\n",
       "    .dataframe tbody tr th:only-of-type {\n",
       "        vertical-align: middle;\n",
       "    }\n",
       "\n",
       "    .dataframe tbody tr th {\n",
       "        vertical-align: top;\n",
       "    }\n",
       "\n",
       "    .dataframe thead th {\n",
       "        text-align: right;\n",
       "    }\n",
       "</style>\n",
       "<table border=\"1\" class=\"dataframe\">\n",
       "  <thead>\n",
       "    <tr style=\"text-align: right;\">\n",
       "      <th></th>\n",
       "      <th>IMBD title ID</th>\n",
       "      <th>Original title</th>\n",
       "      <th>Release year</th>\n",
       "      <th>Genre</th>\n",
       "      <th>Duration</th>\n",
       "      <th>Country</th>\n",
       "      <th>Content Rating</th>\n",
       "      <th>Director</th>\n",
       "      <th>Unnamed: 8</th>\n",
       "      <th>Income</th>\n",
       "      <th>Votes</th>\n",
       "      <th>Score</th>\n",
       "    </tr>\n",
       "  </thead>\n",
       "  <tbody>\n",
       "  </tbody>\n",
       "</table>\n",
       "</div>"
      ],
      "text/plain": [
       "Empty DataFrame\n",
       "Columns: [IMBD title ID, Original title, Release year, Genre, Duration, Country, Content Rating, Director, Unnamed: 8, Income,  Votes , Score]\n",
       "Index: []"
      ]
     },
     "execution_count": 69,
     "metadata": {},
     "output_type": "execute_result"
    }
   ],
   "source": [
    "# Check for duplicates in the specified column\n",
    "duplicated_values = df['Original title'].duplicated(keep=False)\n",
    "\n",
    "# Shows rows where 'Original title' has duplicated values\n",
    "df[duplicated_values]"
   ]
  },
  {
   "cell_type": "code",
   "execution_count": 70,
   "metadata": {},
   "outputs": [
    {
     "data": {
      "text/plain": [
       "IMBD title ID       1\n",
       "Original title      1\n",
       "Release year        1\n",
       "Genre               1\n",
       "Duration            2\n",
       "Country             1\n",
       "Content Rating     24\n",
       "Director            1\n",
       "Unnamed: 8        101\n",
       "Income              1\n",
       " Votes              1\n",
       "Score               1\n",
       "dtype: int64"
      ]
     },
     "execution_count": 70,
     "metadata": {},
     "output_type": "execute_result"
    }
   ],
   "source": [
    "# check how many null values in each column\n",
    "df.isna().sum()"
   ]
  },
  {
   "cell_type": "code",
   "execution_count": 71,
   "metadata": {},
   "outputs": [
    {
     "data": {
      "text/plain": [
       "Index(['IMBD title ID', 'Original title', 'Release year', 'Genre', 'Duration',\n",
       "       'Country', 'Content Rating', 'Director', 'Income', ' Votes ', 'Score'],\n",
       "      dtype='object')"
      ]
     },
     "execution_count": 71,
     "metadata": {},
     "output_type": "execute_result"
    }
   ],
   "source": [
    "# drop columns which only have null values\n",
    "df = df.dropna(axis=1, how='all')\n",
    "# Show all columns after dropping empty columns\n",
    "df.columns"
   ]
  },
  {
   "cell_type": "code",
   "execution_count": 72,
   "metadata": {},
   "outputs": [
    {
     "data": {
      "text/plain": [
       "IMBD title ID      0\n",
       "Original title     0\n",
       "Release year       0\n",
       "Genre              0\n",
       "Duration           1\n",
       "Country            0\n",
       "Content Rating    23\n",
       "Director           0\n",
       "Income             0\n",
       " Votes             0\n",
       "Score              0\n",
       "dtype: int64"
      ]
     },
     "execution_count": 72,
     "metadata": {},
     "output_type": "execute_result"
    }
   ],
   "source": [
    "# drop rows which only have null values\n",
    "df = df.dropna(axis=0, how='all')\n",
    "df.isna().sum()"
   ]
  },
  {
   "cell_type": "code",
   "execution_count": 74,
   "metadata": {},
   "outputs": [
    {
     "name": "stdout",
     "output_type": "stream",
     "text": [
      "Index([4, 6, 9, 11, 14, 16, 18], dtype='int64')\n"
     ]
    }
   ],
   "source": [
    "df['Duration'] = pd.to_numeric(df['Duration'], errors='coerce')\n",
    "df.loc[9,'Duration'] = np.nan\n",
    "\n",
    "null_duration_rows = df[df['Duration'].isna()]\n",
    "# Display the row number(s) where 'Duration' is null\n",
    "print(null_duration_rows.index)"
   ]
  },
  {
   "cell_type": "code",
   "execution_count": 75,
   "metadata": {},
   "outputs": [
    {
     "data": {
      "text/plain": [
       "IMBD title ID             tt0110912\n",
       "Original title         Pulp Fiction\n",
       "Release year             1994-10-28\n",
       "Genre                  Crime, Drama\n",
       "Duration                        NaN\n",
       "Country                         USA\n",
       "Content Rating                    R\n",
       "Director          Quentin Tarantino\n",
       "Income                  $ 222831817\n",
       " Votes                    1.780.147\n",
       "Score                          8,9f\n",
       "Name: 4, dtype: object"
      ]
     },
     "execution_count": 75,
     "metadata": {},
     "output_type": "execute_result"
    }
   ],
   "source": [
    "df.loc[4]"
   ]
  },
  {
   "cell_type": "code",
   "execution_count": 76,
   "metadata": {},
   "outputs": [
    {
     "data": {
      "text/plain": [
       "IMBD title ID             tt0110912\n",
       "Original title         Pulp Fiction\n",
       "Release year             1994-10-28\n",
       "Genre                  Crime, Drama\n",
       "Duration                      154.0\n",
       "Country                         USA\n",
       "Content Rating                    R\n",
       "Director          Quentin Tarantino\n",
       "Income                  $ 222831817\n",
       " Votes                    1.780.147\n",
       "Score                          8,9f\n",
       "Name: 4, dtype: object"
      ]
     },
     "execution_count": 76,
     "metadata": {},
     "output_type": "execute_result"
    }
   ],
   "source": [
    "df.loc[4,'Duration'] = 154\n",
    "df.loc[4]"
   ]
  },
  {
   "cell_type": "code",
   "execution_count": 77,
   "metadata": {},
   "outputs": [
    {
     "data": {
      "text/plain": [
       "IMBD title ID                     tt0108052\n",
       "Original title             Schindler's List\n",
       "Release year                     1994-03-11\n",
       "Genre             Biography, Drama, History\n",
       "Duration                                NaN\n",
       "Country                                 USA\n",
       "Content Rating                            R\n",
       "Director                   Steven Spielberg\n",
       "Income                          $ 322287794\n",
       " Votes                            1.183.248\n",
       "Score                                   8.9\n",
       "Name: 6, dtype: object"
      ]
     },
     "execution_count": 77,
     "metadata": {},
     "output_type": "execute_result"
    }
   ],
   "source": [
    "df.loc[6]"
   ]
  },
  {
   "cell_type": "code",
   "execution_count": 78,
   "metadata": {},
   "outputs": [
    {
     "data": {
      "text/plain": [
       "IMBD title ID                     tt0108052\n",
       "Original title             Schindler's List\n",
       "Release year                     1994-03-11\n",
       "Genre             Biography, Drama, History\n",
       "Duration                              195.0\n",
       "Country                                 USA\n",
       "Content Rating                            R\n",
       "Director                   Steven Spielberg\n",
       "Income                          $ 322287794\n",
       " Votes                            1.183.248\n",
       "Score                                   8.9\n",
       "Name: 6, dtype: object"
      ]
     },
     "execution_count": 78,
     "metadata": {},
     "output_type": "execute_result"
    }
   ],
   "source": [
    "df.loc[6,'Duration'] = 195\n",
    "df.loc[6]"
   ]
  },
  {
   "cell_type": "code",
   "execution_count": 79,
   "metadata": {},
   "outputs": [
    {
     "data": {
      "text/plain": [
       "IMBD title ID         tt0137523\n",
       "Original title       Fight Club\n",
       "Release year           10-29-99\n",
       "Genre                     Drama\n",
       "Duration                    NaN\n",
       "Country                      UK\n",
       "Content Rating                R\n",
       "Director          David Fincher\n",
       "Income              $ 101218804\n",
       " Votes                1.807.440\n",
       "Score                       8.8\n",
       "Name: 9, dtype: object"
      ]
     },
     "execution_count": 79,
     "metadata": {},
     "output_type": "execute_result"
    }
   ],
   "source": [
    "df.loc[9]"
   ]
  },
  {
   "cell_type": "code",
   "execution_count": 80,
   "metadata": {},
   "outputs": [
    {
     "data": {
      "text/plain": [
       "IMBD title ID         tt0137523\n",
       "Original title       Fight Club\n",
       "Release year           10-29-99\n",
       "Genre                     Drama\n",
       "Duration                  139.0\n",
       "Country                      UK\n",
       "Content Rating                R\n",
       "Director          David Fincher\n",
       "Income              $ 101218804\n",
       " Votes                1.807.440\n",
       "Score                       8.8\n",
       "Name: 9, dtype: object"
      ]
     },
     "execution_count": 80,
     "metadata": {},
     "output_type": "execute_result"
    }
   ],
   "source": [
    "df.loc[9,'Duration'] = 139\n",
    "df.loc[9]"
   ]
  },
  {
   "cell_type": "code",
   "execution_count": 81,
   "metadata": {},
   "outputs": [
    {
     "data": {
      "text/plain": [
       "IMBD title ID                                             tt0120737\n",
       "Original title    The Lord of the Rings: The Fellowship of the Ring\n",
       "Release year                                             2002-01-18\n",
       "Genre                                      Action, Adventure, Drama\n",
       "Duration                                                        NaN\n",
       "Country                                                 New Zesland\n",
       "Content Rating                                                PG-13\n",
       "Director                                              Peter Jackson\n",
       "Income                                                  $ 887934303\n",
       " Votes                                                    1.619.920\n",
       "Score                                                           8.8\n",
       "Name: 11, dtype: object"
      ]
     },
     "execution_count": 81,
     "metadata": {},
     "output_type": "execute_result"
    }
   ],
   "source": [
    "df.loc[11]"
   ]
  },
  {
   "cell_type": "code",
   "execution_count": 82,
   "metadata": {},
   "outputs": [
    {
     "data": {
      "text/plain": [
       "IMBD title ID                                             tt0120737\n",
       "Original title    The Lord of the Rings: The Fellowship of the Ring\n",
       "Release year                                             2002-01-18\n",
       "Genre                                      Action, Adventure, Drama\n",
       "Duration                                                      178.0\n",
       "Country                                                 New Zesland\n",
       "Content Rating                                                PG-13\n",
       "Director                                              Peter Jackson\n",
       "Income                                                  $ 887934303\n",
       " Votes                                                    1.619.920\n",
       "Score                                                           8.8\n",
       "Name: 11, dtype: object"
      ]
     },
     "execution_count": 82,
     "metadata": {},
     "output_type": "execute_result"
    }
   ],
   "source": [
    "df.loc[11,'Duration'] = 178\n",
    "df.loc[11]"
   ]
  },
  {
   "cell_type": "code",
   "execution_count": 83,
   "metadata": {},
   "outputs": [
    {
     "data": {
      "text/plain": [
       "IMBD title ID                           tt0133093\n",
       "Original title                         The Matrix\n",
       "Release year                           1999-05-07\n",
       "Genre                              Action, Sci-Fi\n",
       "Duration                                      NaN\n",
       "Country                                       USA\n",
       "Content Rating                                  R\n",
       "Director          Lana Wachowski, Lilly Wachowski\n",
       "Income                                $ 465718588\n",
       " Votes                                  1.632.315\n",
       "Score                                       ++8.7\n",
       "Name: 14, dtype: object"
      ]
     },
     "execution_count": 83,
     "metadata": {},
     "output_type": "execute_result"
    }
   ],
   "source": [
    "# get data on row 14\n",
    "df.loc[14]"
   ]
  },
  {
   "cell_type": "code",
   "execution_count": 84,
   "metadata": {},
   "outputs": [
    {
     "data": {
      "text/plain": [
       "IMBD title ID                           tt0133093\n",
       "Original title                         The Matrix\n",
       "Release year                           1999-05-07\n",
       "Genre                              Action, Sci-Fi\n",
       "Duration                                    136.0\n",
       "Country                                       USA\n",
       "Content Rating                                  R\n",
       "Director          Lana Wachowski, Lilly Wachowski\n",
       "Income                                $ 465718588\n",
       " Votes                                  1.632.315\n",
       "Score                                       ++8.7\n",
       "Name: 14, dtype: object"
      ]
     },
     "execution_count": 84,
     "metadata": {},
     "output_type": "execute_result"
    }
   ],
   "source": [
    "# manually insert duration value (acccessed imdb website)\n",
    "df.loc[14,'Duration'] = 136\n",
    "df.loc[14]"
   ]
  },
  {
   "cell_type": "code",
   "execution_count": 85,
   "metadata": {},
   "outputs": [
    {
     "data": {
      "text/plain": [
       "IMBD title ID                                          tt0080684\n",
       "Original title    Star Wars: Episode V - The Empire Strikes Back\n",
       "Release year                                          1980-09-19\n",
       "Genre                                 Action, Adventure, Fantasy\n",
       "Duration                                                     NaN\n",
       "Country                                                      USA\n",
       "Content Rating                                                PG\n",
       "Director                                          Irvin Kershner\n",
       "Income                                               $ 549265501\n",
       " Votes                                                 1.132.073\n",
       "Score                                                     8,7e-0\n",
       "Name: 16, dtype: object"
      ]
     },
     "execution_count": 85,
     "metadata": {},
     "output_type": "execute_result"
    }
   ],
   "source": [
    "df.loc[16]"
   ]
  },
  {
   "cell_type": "code",
   "execution_count": 86,
   "metadata": {},
   "outputs": [
    {
     "data": {
      "text/plain": [
       "IMBD title ID                                          tt0080684\n",
       "Original title    Star Wars: Episode V - The Empire Strikes Back\n",
       "Release year                                          1980-09-19\n",
       "Genre                                 Action, Adventure, Fantasy\n",
       "Duration                                                   124.0\n",
       "Country                                                      USA\n",
       "Content Rating                                                PG\n",
       "Director                                          Irvin Kershner\n",
       "Income                                               $ 549265501\n",
       " Votes                                                 1.132.073\n",
       "Score                                                     8,7e-0\n",
       "Name: 16, dtype: object"
      ]
     },
     "execution_count": 86,
     "metadata": {},
     "output_type": "execute_result"
    }
   ],
   "source": [
    "df.loc[16,'Duration'] = 124\n",
    "df.loc[16]"
   ]
  },
  {
   "cell_type": "code",
   "execution_count": 87,
   "metadata": {},
   "outputs": [
    {
     "data": {
      "text/plain": [
       "IMBD title ID                           tt0073486\n",
       "Original title    One Flew Over the Cuckoo's Nest\n",
       "Release year                           18/11/1976\n",
       "Genre                                       Drama\n",
       "Duration                                      NaN\n",
       "Country                                       USA\n",
       "Content Rating                                  R\n",
       "Director                             Milos Forman\n",
       "Income                                $ 108997629\n",
       " Votes                                    891.071\n",
       "Score                                         8.7\n",
       "Name: 18, dtype: object"
      ]
     },
     "execution_count": 87,
     "metadata": {},
     "output_type": "execute_result"
    }
   ],
   "source": [
    "df.loc[18]"
   ]
  },
  {
   "cell_type": "code",
   "execution_count": 88,
   "metadata": {},
   "outputs": [
    {
     "data": {
      "text/plain": [
       "IMBD title ID                           tt0073486\n",
       "Original title    One Flew Over the Cuckoo's Nest\n",
       "Release year                           18/11/1976\n",
       "Genre                                       Drama\n",
       "Duration                                    133.0\n",
       "Country                                       USA\n",
       "Content Rating                                  R\n",
       "Director                             Milos Forman\n",
       "Income                                $ 108997629\n",
       " Votes                                    891.071\n",
       "Score                                         8.7\n",
       "Name: 18, dtype: object"
      ]
     },
     "execution_count": 88,
     "metadata": {},
     "output_type": "execute_result"
    }
   ],
   "source": [
    "df.loc[18,'Duration'] = 133\n",
    "df.loc[18]"
   ]
  },
  {
   "cell_type": "code",
   "execution_count": 89,
   "metadata": {},
   "outputs": [
    {
     "data": {
      "text/plain": [
       "IMBD title ID      0\n",
       "Original title     0\n",
       "Release year       0\n",
       "Genre              0\n",
       "Duration           0\n",
       "Country            0\n",
       "Content Rating    23\n",
       "Director           0\n",
       "Income             0\n",
       " Votes             0\n",
       "Score              0\n",
       "dtype: int64"
      ]
     },
     "execution_count": 89,
     "metadata": {},
     "output_type": "execute_result"
    }
   ],
   "source": [
    "# check to see if null values are gone\n",
    "df.isna().sum()"
   ]
  },
  {
   "cell_type": "code",
   "execution_count": 90,
   "metadata": {},
   "outputs": [
    {
     "data": {
      "text/html": [
       "<div>\n",
       "<style scoped>\n",
       "    .dataframe tbody tr th:only-of-type {\n",
       "        vertical-align: middle;\n",
       "    }\n",
       "\n",
       "    .dataframe tbody tr th {\n",
       "        vertical-align: top;\n",
       "    }\n",
       "\n",
       "    .dataframe thead th {\n",
       "        text-align: right;\n",
       "    }\n",
       "</style>\n",
       "<table border=\"1\" class=\"dataframe\">\n",
       "  <thead>\n",
       "    <tr style=\"text-align: right;\">\n",
       "      <th></th>\n",
       "      <th>IMBD title ID</th>\n",
       "      <th>Original title</th>\n",
       "      <th>Release year</th>\n",
       "      <th>Genre</th>\n",
       "      <th>Duration</th>\n",
       "      <th>Country</th>\n",
       "      <th>Content Rating</th>\n",
       "      <th>Director</th>\n",
       "      <th>Income</th>\n",
       "      <th>Votes</th>\n",
       "      <th>Score</th>\n",
       "    </tr>\n",
       "  </thead>\n",
       "  <tbody>\n",
       "    <tr>\n",
       "      <th>0</th>\n",
       "      <td>tt0111161</td>\n",
       "      <td>The Shawshank Redemption</td>\n",
       "      <td>1995-02-10</td>\n",
       "      <td>Drama</td>\n",
       "      <td>142.0</td>\n",
       "      <td>USA</td>\n",
       "      <td>R</td>\n",
       "      <td>Frank Darabont</td>\n",
       "      <td>$ 28815245</td>\n",
       "      <td>2.278.845</td>\n",
       "      <td>9.3</td>\n",
       "    </tr>\n",
       "    <tr>\n",
       "      <th>1</th>\n",
       "      <td>tt0068646</td>\n",
       "      <td>The Godfather</td>\n",
       "      <td>09 21 1972</td>\n",
       "      <td>Crime, Drama</td>\n",
       "      <td>175.0</td>\n",
       "      <td>USA</td>\n",
       "      <td>R</td>\n",
       "      <td>Francis Ford Coppola</td>\n",
       "      <td>$ 246120974</td>\n",
       "      <td>1.572.674</td>\n",
       "      <td>9.2</td>\n",
       "    </tr>\n",
       "    <tr>\n",
       "      <th>2</th>\n",
       "      <td>tt0468569</td>\n",
       "      <td>The Dark Knight</td>\n",
       "      <td>23 -07-2008</td>\n",
       "      <td>Action, Crime, Drama</td>\n",
       "      <td>152.0</td>\n",
       "      <td>US</td>\n",
       "      <td>PG-13</td>\n",
       "      <td>Christopher Nolan</td>\n",
       "      <td>$ 1005455211</td>\n",
       "      <td>2.241.615</td>\n",
       "      <td>9.</td>\n",
       "    </tr>\n",
       "    <tr>\n",
       "      <th>3</th>\n",
       "      <td>tt0071562</td>\n",
       "      <td>The Godfather: Part II</td>\n",
       "      <td>1975-09-25</td>\n",
       "      <td>Crime, Drama</td>\n",
       "      <td>220.0</td>\n",
       "      <td>USA</td>\n",
       "      <td>R</td>\n",
       "      <td>Francis Ford Coppola</td>\n",
       "      <td>$ 4o8,035,783</td>\n",
       "      <td>1.098.714</td>\n",
       "      <td>9,.0</td>\n",
       "    </tr>\n",
       "    <tr>\n",
       "      <th>4</th>\n",
       "      <td>tt0110912</td>\n",
       "      <td>Pulp Fiction</td>\n",
       "      <td>1994-10-28</td>\n",
       "      <td>Crime, Drama</td>\n",
       "      <td>154.0</td>\n",
       "      <td>USA</td>\n",
       "      <td>R</td>\n",
       "      <td>Quentin Tarantino</td>\n",
       "      <td>$ 222831817</td>\n",
       "      <td>1.780.147</td>\n",
       "      <td>8,9f</td>\n",
       "    </tr>\n",
       "    <tr>\n",
       "      <th>5</th>\n",
       "      <td>tt0167260</td>\n",
       "      <td>The Lord of the Rings: The Return of the King</td>\n",
       "      <td>22 Feb 04</td>\n",
       "      <td>Action, Adventure, Drama</td>\n",
       "      <td>201.0</td>\n",
       "      <td>New Zealand</td>\n",
       "      <td>PG-13</td>\n",
       "      <td>Peter Jackson</td>\n",
       "      <td>$ 1142271098</td>\n",
       "      <td>1.604.280</td>\n",
       "      <td>08.9</td>\n",
       "    </tr>\n",
       "    <tr>\n",
       "      <th>6</th>\n",
       "      <td>tt0108052</td>\n",
       "      <td>Schindler's List</td>\n",
       "      <td>1994-03-11</td>\n",
       "      <td>Biography, Drama, History</td>\n",
       "      <td>195.0</td>\n",
       "      <td>USA</td>\n",
       "      <td>R</td>\n",
       "      <td>Steven Spielberg</td>\n",
       "      <td>$ 322287794</td>\n",
       "      <td>1.183.248</td>\n",
       "      <td>8.9</td>\n",
       "    </tr>\n",
       "    <tr>\n",
       "      <th>7</th>\n",
       "      <td>tt0050083</td>\n",
       "      <td>12 Angry Men</td>\n",
       "      <td>1957-09-04</td>\n",
       "      <td>Crime, Drama</td>\n",
       "      <td>96.0</td>\n",
       "      <td>USA</td>\n",
       "      <td>Not Rated</td>\n",
       "      <td>Sidney Lumet</td>\n",
       "      <td>$ 576</td>\n",
       "      <td>668.473</td>\n",
       "      <td>8.9</td>\n",
       "    </tr>\n",
       "    <tr>\n",
       "      <th>8</th>\n",
       "      <td>tt1375666</td>\n",
       "      <td>Inception</td>\n",
       "      <td>2010-09-24</td>\n",
       "      <td>Action, Adventure, Sci-Fi</td>\n",
       "      <td>148.0</td>\n",
       "      <td>USA</td>\n",
       "      <td>PG-13</td>\n",
       "      <td>Christopher Nolan</td>\n",
       "      <td>$ 869784991</td>\n",
       "      <td>2.002.816</td>\n",
       "      <td>8..8</td>\n",
       "    </tr>\n",
       "    <tr>\n",
       "      <th>9</th>\n",
       "      <td>tt0137523</td>\n",
       "      <td>Fight Club</td>\n",
       "      <td>10-29-99</td>\n",
       "      <td>Drama</td>\n",
       "      <td>139.0</td>\n",
       "      <td>UK</td>\n",
       "      <td>R</td>\n",
       "      <td>David Fincher</td>\n",
       "      <td>$ 101218804</td>\n",
       "      <td>1.807.440</td>\n",
       "      <td>8.8</td>\n",
       "    </tr>\n",
       "  </tbody>\n",
       "</table>\n",
       "</div>"
      ],
      "text/plain": [
       "  IMBD title ID                                 Original title  Release year  \\\n",
       "0     tt0111161                       The Shawshank Redemption    1995-02-10   \n",
       "1     tt0068646                                  The Godfather    09 21 1972   \n",
       "2     tt0468569                                The Dark Knight   23 -07-2008   \n",
       "3     tt0071562                         The Godfather: Part II    1975-09-25   \n",
       "4     tt0110912                                   Pulp Fiction    1994-10-28   \n",
       "5     tt0167260  The Lord of the Rings: The Return of the King     22 Feb 04   \n",
       "6     tt0108052                               Schindler's List    1994-03-11   \n",
       "7     tt0050083                                   12 Angry Men    1957-09-04   \n",
       "8     tt1375666                                      Inception    2010-09-24   \n",
       "9     tt0137523                                     Fight Club      10-29-99   \n",
       "\n",
       "                       Genre  Duration      Country Content Rating  \\\n",
       "0                      Drama     142.0          USA              R   \n",
       "1               Crime, Drama     175.0          USA              R   \n",
       "2       Action, Crime, Drama     152.0           US          PG-13   \n",
       "3               Crime, Drama     220.0          USA              R   \n",
       "4               Crime, Drama     154.0          USA              R   \n",
       "5   Action, Adventure, Drama     201.0  New Zealand          PG-13   \n",
       "6  Biography, Drama, History     195.0          USA              R   \n",
       "7               Crime, Drama      96.0          USA      Not Rated   \n",
       "8  Action, Adventure, Sci-Fi     148.0          USA          PG-13   \n",
       "9                      Drama     139.0           UK              R   \n",
       "\n",
       "               Director         Income     Votes  Score  \n",
       "0        Frank Darabont     $ 28815245  2.278.845   9.3  \n",
       "1  Francis Ford Coppola    $ 246120974  1.572.674   9.2  \n",
       "2     Christopher Nolan   $ 1005455211  2.241.615    9.  \n",
       "3  Francis Ford Coppola  $ 4o8,035,783  1.098.714  9,.0  \n",
       "4     Quentin Tarantino    $ 222831817  1.780.147  8,9f  \n",
       "5         Peter Jackson   $ 1142271098  1.604.280  08.9  \n",
       "6      Steven Spielberg    $ 322287794  1.183.248   8.9  \n",
       "7          Sidney Lumet          $ 576    668.473   8.9  \n",
       "8     Christopher Nolan    $ 869784991  2.002.816  8..8  \n",
       "9         David Fincher    $ 101218804  1.807.440   8.8  "
      ]
     },
     "execution_count": 90,
     "metadata": {},
     "output_type": "execute_result"
    }
   ],
   "source": [
    "df.head(10)"
   ]
  },
  {
   "cell_type": "code",
   "execution_count": 91,
   "metadata": {},
   "outputs": [
    {
     "data": {
      "text/plain": [
       "0      142.0\n",
       "1      175.0\n",
       "2      152.0\n",
       "3      220.0\n",
       "4      154.0\n",
       "       ...  \n",
       "96     129.0\n",
       "97     149.0\n",
       "98     132.0\n",
       "99     123.0\n",
       "100    103.0\n",
       "Name: Duration, Length: 100, dtype: float64"
      ]
     },
     "execution_count": 91,
     "metadata": {},
     "output_type": "execute_result"
    }
   ],
   "source": [
    "df.loc[:,'Duration']"
   ]
  },
  {
   "cell_type": "code",
   "execution_count": 92,
   "metadata": {},
   "outputs": [
    {
     "data": {
      "text/plain": [
       "IMBD title ID      0\n",
       "Original title     0\n",
       "Release year       0\n",
       "Genre              0\n",
       "Duration           0\n",
       "Country            0\n",
       "Content Rating    23\n",
       "Director           0\n",
       "Income             0\n",
       " Votes             0\n",
       "Score              0\n",
       "dtype: int64"
      ]
     },
     "execution_count": 92,
     "metadata": {},
     "output_type": "execute_result"
    }
   ],
   "source": [
    "df.isna().sum()"
   ]
  },
  {
   "cell_type": "code",
   "execution_count": 93,
   "metadata": {},
   "outputs": [
    {
     "data": {
      "text/plain": [
       "0                1995-02-10\n",
       "1                09-21-1972\n",
       "2                23-07-2008\n",
       "3                1975-09-25\n",
       "4                1994-10-28\n",
       "5                  22-02-04\n",
       "6                1994-03-11\n",
       "7                1957-09-04\n",
       "8                2010-09-24\n",
       "9                  10-29-99\n",
       "10               1994-10-06\n",
       "11               2002-01-18\n",
       "12    23rd-December-of-1966\n",
       "14               1999-05-07\n",
       "15                 01-16-03\n",
       "16               1980-09-19\n",
       "17               1990-09-20\n",
       "18               18-11-1976\n",
       "19               2014-11-06\n",
       "20               1995-12-15\n",
       "Name: Release year, dtype: object"
      ]
     },
     "execution_count": 93,
     "metadata": {},
     "output_type": "execute_result"
    }
   ],
   "source": [
    "# strip whitespaces\n",
    "df['Release year'] = df['Release year'].str.strip()\n",
    "# replace gaps with -\n",
    "df['Release year'] = df['Release year'].str.replace(' ', '-')\n",
    "# replace / with -\n",
    "df['Release year'] = df['Release year'].str.replace('/', '-')\n",
    "# replace double dash with single dash\n",
    "df['Release year'] = df['Release year'].str.replace('--', '-')\n",
    "# replace words to digits\n",
    "df['Release year'] = df['Release year'].str.replace('Feb', '02')\n",
    "\n",
    "\n",
    "df.loc[:20,'Release year']"
   ]
  },
  {
   "cell_type": "code",
   "execution_count": 94,
   "metadata": {},
   "outputs": [
    {
     "name": "stdout",
     "output_type": "stream",
     "text": [
      "1995-12-15\n",
      "1951-03-06\n"
     ]
    }
   ],
   "source": [
    "# fix format to only digits\n",
    "df.loc[12,'Release year'] = '1966-12-23'\n",
    "print(df.loc[20,'Release year'])\n",
    "\n",
    "df.loc[70,'Release year'] = '1951-03-06'\n",
    "print(df.loc[70,'Release year'])"
   ]
  },
  {
   "cell_type": "code",
   "execution_count": 95,
   "metadata": {},
   "outputs": [
    {
     "data": {
      "text/plain": [
       "0     1995-02-10\n",
       "1     09-21-1972\n",
       "2     23-07-2008\n",
       "3     1975-09-25\n",
       "4     1994-10-28\n",
       "5       22-02-04\n",
       "6     1994-03-11\n",
       "7     1957-09-04\n",
       "8     2010-09-24\n",
       "9       10-29-99\n",
       "10    1994-10-06\n",
       "11    2002-01-18\n",
       "12    1966-12-23\n",
       "14    1999-05-07\n",
       "15      01-16-03\n",
       "16    1980-09-19\n",
       "17    1990-09-20\n",
       "18    18-11-1976\n",
       "19    2014-11-06\n",
       "20    1995-12-15\n",
       "21    1991-03-05\n",
       "22    1977-10-20\n",
       "23    1998-10-30\n",
       "24    2000-10-03\n",
       "25    2003-05-09\n",
       "Name: Release year, dtype: object"
      ]
     },
     "execution_count": 95,
     "metadata": {},
     "output_type": "execute_result"
    }
   ],
   "source": [
    "df.loc[:25,'Release year']"
   ]
  },
  {
   "cell_type": "code",
   "execution_count": 96,
   "metadata": {},
   "outputs": [],
   "source": [
    "# fix issues with year\n",
    "df.loc[5,'Release year'] = '2004-02-22'\n",
    "df.loc[9,'Release year'] = '1999-10-29'\n",
    "df.loc[15,'Release year'] = '2003-01-16'\n",
    "df.loc[45,'Release year'] = '1946-11-21'"
   ]
  },
  {
   "cell_type": "code",
   "execution_count": 97,
   "metadata": {},
   "outputs": [
    {
     "data": {
      "text/plain": [
       "90     2020-01-23\n",
       "91     1985-02-15\n",
       "92     1958-11-18\n",
       "93     1959-10-28\n",
       "94     2012-11-22\n",
       "95     1963-10-29\n",
       "96     1974-03-21\n",
       "97     1982-03-18\n",
       "98     1965-12-20\n",
       "99     2011-10-21\n",
       "100    1953-02-05\n",
       "Name: Release year, dtype: object"
      ]
     },
     "execution_count": 97,
     "metadata": {},
     "output_type": "execute_result"
    }
   ],
   "source": [
    "df.loc[90:100,'Release year']"
   ]
  },
  {
   "cell_type": "code",
   "execution_count": 98,
   "metadata": {},
   "outputs": [],
   "source": [
    "# fix ordering to YYYY-MM-DD\n",
    "df.loc[1,'Release year'] = '1972-09-21'\n",
    "df.loc[2,'Release year'] = '2008-07-23'\n",
    "df.loc[18,'Release year'] = '1976-11-18'"
   ]
  },
  {
   "cell_type": "code",
   "execution_count": 99,
   "metadata": {},
   "outputs": [
    {
     "data": {
      "text/plain": [
       "0                           Drama\n",
       "1                    Crime, Drama\n",
       "2            Action, Crime, Drama\n",
       "3                    Crime, Drama\n",
       "4                    Crime, Drama\n",
       "                  ...            \n",
       "96           Comedy, Crime, Drama\n",
       "97     Adventure, Drama, Thriller\n",
       "98                        Western\n",
       "99                          Drama\n",
       "100      Comedy, Musical, Romance\n",
       "Name: Genre, Length: 100, dtype: object"
      ]
     },
     "execution_count": 99,
     "metadata": {},
     "output_type": "execute_result"
    }
   ],
   "source": [
    "# remove leading/trailing whitespaces\n",
    "df['Genre'] = df['Genre'].str.strip()\n",
    "df['Genre']"
   ]
  },
  {
   "cell_type": "code",
   "execution_count": 100,
   "metadata": {},
   "outputs": [
    {
     "data": {
      "text/plain": [
       "dtype('float64')"
      ]
     },
     "execution_count": 100,
     "metadata": {},
     "output_type": "execute_result"
    }
   ],
   "source": [
    "# check data type\n",
    "df['Duration'].dtype"
   ]
  },
  {
   "cell_type": "code",
   "execution_count": 101,
   "metadata": {},
   "outputs": [
    {
     "data": {
      "text/plain": [
       "0      142\n",
       "1      175\n",
       "2      152\n",
       "3      220\n",
       "4      154\n",
       "      ... \n",
       "96     129\n",
       "97     149\n",
       "98     132\n",
       "99     123\n",
       "100    103\n",
       "Name: Duration, Length: 100, dtype: int32"
      ]
     },
     "execution_count": 101,
     "metadata": {},
     "output_type": "execute_result"
    }
   ],
   "source": [
    "# convert to int to remove decimal and trailing 0\n",
    "df['Duration'] = df['Duration'].astype(int)\n",
    "df['Duration']"
   ]
  },
  {
   "cell_type": "code",
   "execution_count": 102,
   "metadata": {},
   "outputs": [
    {
     "data": {
      "text/html": [
       "<div>\n",
       "<style scoped>\n",
       "    .dataframe tbody tr th:only-of-type {\n",
       "        vertical-align: middle;\n",
       "    }\n",
       "\n",
       "    .dataframe tbody tr th {\n",
       "        vertical-align: top;\n",
       "    }\n",
       "\n",
       "    .dataframe thead th {\n",
       "        text-align: right;\n",
       "    }\n",
       "</style>\n",
       "<table border=\"1\" class=\"dataframe\">\n",
       "  <thead>\n",
       "    <tr style=\"text-align: right;\">\n",
       "      <th></th>\n",
       "      <th>IMBD title ID</th>\n",
       "      <th>Original title</th>\n",
       "      <th>Release year</th>\n",
       "      <th>Genre</th>\n",
       "      <th>Duration (min)</th>\n",
       "      <th>Country</th>\n",
       "      <th>Content Rating</th>\n",
       "      <th>Director</th>\n",
       "      <th>Income</th>\n",
       "      <th>Votes</th>\n",
       "      <th>Score</th>\n",
       "    </tr>\n",
       "  </thead>\n",
       "  <tbody>\n",
       "    <tr>\n",
       "      <th>0</th>\n",
       "      <td>tt0111161</td>\n",
       "      <td>The Shawshank Redemption</td>\n",
       "      <td>1995-02-10</td>\n",
       "      <td>Drama</td>\n",
       "      <td>142</td>\n",
       "      <td>USA</td>\n",
       "      <td>R</td>\n",
       "      <td>Frank Darabont</td>\n",
       "      <td>$ 28815245</td>\n",
       "      <td>2.278.845</td>\n",
       "      <td>9.3</td>\n",
       "    </tr>\n",
       "    <tr>\n",
       "      <th>1</th>\n",
       "      <td>tt0068646</td>\n",
       "      <td>The Godfather</td>\n",
       "      <td>1972-09-21</td>\n",
       "      <td>Crime, Drama</td>\n",
       "      <td>175</td>\n",
       "      <td>USA</td>\n",
       "      <td>R</td>\n",
       "      <td>Francis Ford Coppola</td>\n",
       "      <td>$ 246120974</td>\n",
       "      <td>1.572.674</td>\n",
       "      <td>9.2</td>\n",
       "    </tr>\n",
       "    <tr>\n",
       "      <th>2</th>\n",
       "      <td>tt0468569</td>\n",
       "      <td>The Dark Knight</td>\n",
       "      <td>2008-07-23</td>\n",
       "      <td>Action, Crime, Drama</td>\n",
       "      <td>152</td>\n",
       "      <td>US</td>\n",
       "      <td>PG-13</td>\n",
       "      <td>Christopher Nolan</td>\n",
       "      <td>$ 1005455211</td>\n",
       "      <td>2.241.615</td>\n",
       "      <td>9.</td>\n",
       "    </tr>\n",
       "    <tr>\n",
       "      <th>3</th>\n",
       "      <td>tt0071562</td>\n",
       "      <td>The Godfather: Part II</td>\n",
       "      <td>1975-09-25</td>\n",
       "      <td>Crime, Drama</td>\n",
       "      <td>220</td>\n",
       "      <td>USA</td>\n",
       "      <td>R</td>\n",
       "      <td>Francis Ford Coppola</td>\n",
       "      <td>$ 4o8,035,783</td>\n",
       "      <td>1.098.714</td>\n",
       "      <td>9,.0</td>\n",
       "    </tr>\n",
       "    <tr>\n",
       "      <th>4</th>\n",
       "      <td>tt0110912</td>\n",
       "      <td>Pulp Fiction</td>\n",
       "      <td>1994-10-28</td>\n",
       "      <td>Crime, Drama</td>\n",
       "      <td>154</td>\n",
       "      <td>USA</td>\n",
       "      <td>R</td>\n",
       "      <td>Quentin Tarantino</td>\n",
       "      <td>$ 222831817</td>\n",
       "      <td>1.780.147</td>\n",
       "      <td>8,9f</td>\n",
       "    </tr>\n",
       "  </tbody>\n",
       "</table>\n",
       "</div>"
      ],
      "text/plain": [
       "  IMBD title ID            Original title Release year                 Genre  \\\n",
       "0     tt0111161  The Shawshank Redemption   1995-02-10                 Drama   \n",
       "1     tt0068646             The Godfather   1972-09-21          Crime, Drama   \n",
       "2     tt0468569           The Dark Knight   2008-07-23  Action, Crime, Drama   \n",
       "3     tt0071562    The Godfather: Part II   1975-09-25          Crime, Drama   \n",
       "4     tt0110912              Pulp Fiction   1994-10-28          Crime, Drama   \n",
       "\n",
       "   Duration (min) Country Content Rating              Director         Income  \\\n",
       "0             142     USA              R        Frank Darabont     $ 28815245   \n",
       "1             175     USA              R  Francis Ford Coppola    $ 246120974   \n",
       "2             152      US          PG-13     Christopher Nolan   $ 1005455211   \n",
       "3             220     USA              R  Francis Ford Coppola  $ 4o8,035,783   \n",
       "4             154     USA              R     Quentin Tarantino    $ 222831817   \n",
       "\n",
       "      Votes  Score  \n",
       "0  2.278.845   9.3  \n",
       "1  1.572.674   9.2  \n",
       "2  2.241.615    9.  \n",
       "3  1.098.714  9,.0  \n",
       "4  1.780.147  8,9f  "
      ]
     },
     "execution_count": 102,
     "metadata": {},
     "output_type": "execute_result"
    }
   ],
   "source": [
    "# rename duration column\n",
    "df.rename(columns={'Duration': 'Duration (min)'}, inplace=True)\n",
    "df.head()"
   ]
  },
  {
   "cell_type": "code",
   "execution_count": 103,
   "metadata": {},
   "outputs": [
    {
     "data": {
      "text/plain": [
       "0             USA\n",
       "1             USA\n",
       "2              US\n",
       "3             USA\n",
       "4             USA\n",
       "5     New Zealand\n",
       "6             USA\n",
       "7             USA\n",
       "8             USA\n",
       "9              UK\n",
       "10            USA\n",
       "11    New Zesland\n",
       "12          Italy\n",
       "14            USA\n",
       "15     New Zeland\n",
       "16            USA\n",
       "17            USA\n",
       "18            USA\n",
       "19            USA\n",
       "20            USA\n",
       "21            USA\n",
       "22            USA\n",
       "23            USA\n",
       "24            US.\n",
       "25         Brazil\n",
       "Name: Country, dtype: object"
      ]
     },
     "execution_count": 103,
     "metadata": {},
     "output_type": "execute_result"
    }
   ],
   "source": [
    "df.loc[:25,'Country']"
   ]
  },
  {
   "cell_type": "code",
   "execution_count": 104,
   "metadata": {},
   "outputs": [],
   "source": [
    "df['Country'] = df['Country'].str.strip()"
   ]
  },
  {
   "cell_type": "code",
   "execution_count": 105,
   "metadata": {},
   "outputs": [
    {
     "data": {
      "text/plain": [
       "0             USA\n",
       "1             USA\n",
       "2             USA\n",
       "3             USA\n",
       "4             USA\n",
       "5     New Zealand\n",
       "6             USA\n",
       "7             USA\n",
       "8             USA\n",
       "9              UK\n",
       "10            USA\n",
       "11    New Zesland\n",
       "12          Italy\n",
       "14            USA\n",
       "15     New Zeland\n",
       "16            USA\n",
       "17            USA\n",
       "18            USA\n",
       "19            USA\n",
       "20            USA\n",
       "21            USA\n",
       "22            USA\n",
       "23            USA\n",
       "24           USA.\n",
       "25         Brazil\n",
       "Name: Country, dtype: object"
      ]
     },
     "execution_count": 105,
     "metadata": {},
     "output_type": "execute_result"
    }
   ],
   "source": [
    "# clean issues with USA\n",
    "df['Country'] = df['Country'].str.replace('US','USA')\n",
    "df['Country'] = df['Country'].str.replace('USAA','USA')\n",
    "df.loc[:25,'Country']\n"
   ]
  },
  {
   "cell_type": "code",
   "execution_count": 106,
   "metadata": {},
   "outputs": [],
   "source": [
    "# 24\n",
    "df.loc[24,'Country'] ='USA'"
   ]
  },
  {
   "cell_type": "code",
   "execution_count": 107,
   "metadata": {},
   "outputs": [],
   "source": [
    "# clean issues with New Zealand\n",
    "df.loc[11,'Country'] ='New Zealand'\n",
    "df.loc[15,'Country'] ='New Zealand'"
   ]
  },
  {
   "cell_type": "code",
   "execution_count": 108,
   "metadata": {},
   "outputs": [],
   "source": [
    "# clean issues with Italy\n",
    "df.loc[27,'Country'] = 'Italy'"
   ]
  },
  {
   "cell_type": "code",
   "execution_count": 109,
   "metadata": {},
   "outputs": [
    {
     "data": {
      "text/plain": [
       "0        $ 28815245\n",
       "1       $ 246120974\n",
       "2      $ 1005455211\n",
       "3     $ 4o8,035,783\n",
       "4       $ 222831817\n",
       "5      $ 1142271098\n",
       "6       $ 322287794\n",
       "7             $ 576\n",
       "8       $ 869784991\n",
       "9       $ 101218804\n",
       "10      $ 678229452\n",
       "11      $ 887934303\n",
       "12       $ 25252481\n",
       "14      $ 465718588\n",
       "15      $ 951227416\n",
       "16      $ 549265501\n",
       "17       $ 46879633\n",
       "18      $ 108997629\n",
       "19      $ 696742056\n",
       "20      $ 327333559\n",
       "21      $ 272753884\n",
       "22      $ 775768912\n",
       "23      $ 482349603\n",
       "24      $ 286801374\n",
       "25       $ 30680793\n",
       "Name: Income, dtype: object"
      ]
     },
     "execution_count": 109,
     "metadata": {},
     "output_type": "execute_result"
    }
   ],
   "source": [
    "df.loc[0:25,'Income']"
   ]
  },
  {
   "cell_type": "code",
   "execution_count": 110,
   "metadata": {},
   "outputs": [],
   "source": [
    "# strip trailing/leading whitespaces\n",
    "df['Income'] = df['Income'].str.strip()"
   ]
  },
  {
   "cell_type": "code",
   "execution_count": 111,
   "metadata": {},
   "outputs": [
    {
     "data": {
      "text/plain": [
       "0        $ 28815245\n",
       "1       $ 246120974\n",
       "2      $ 1005455211\n",
       "3     $ 478,035,783\n",
       "4       $ 222831817\n",
       "5      $ 1142271098\n",
       "6       $ 322287794\n",
       "7             $ 576\n",
       "8       $ 869784991\n",
       "9       $ 101218804\n",
       "10      $ 678229452\n",
       "11      $ 887934303\n",
       "12       $ 25252481\n",
       "14      $ 465718588\n",
       "15      $ 951227416\n",
       "16      $ 549265501\n",
       "17       $ 46879633\n",
       "18      $ 108997629\n",
       "19      $ 696742056\n",
       "20      $ 327333559\n",
       "21      $ 272753884\n",
       "22      $ 775768912\n",
       "23      $ 482349603\n",
       "24      $ 286801374\n",
       "25       $ 30680793\n",
       "Name: Income, dtype: object"
      ]
     },
     "execution_count": 111,
     "metadata": {},
     "output_type": "execute_result"
    }
   ],
   "source": [
    "# fix errors in income\n",
    "df.loc[3,'Income'] = '$ 478,035,783'\n",
    "df.loc[0:25,'Income']"
   ]
  },
  {
   "cell_type": "code",
   "execution_count": 112,
   "metadata": {},
   "outputs": [
    {
     "data": {
      "text/plain": [
       "0      2.278.845\n",
       "1      1.572.674\n",
       "2      2.241.615\n",
       "3      1.098.714\n",
       "4      1.780.147\n",
       "         ...    \n",
       "96       236.285\n",
       "97       226.427\n",
       "98       226.039\n",
       "99       214.165\n",
       "100      213.152\n",
       "Name: Votes, Length: 100, dtype: object"
      ]
     },
     "execution_count": 112,
     "metadata": {},
     "output_type": "execute_result"
    }
   ],
   "source": [
    "# fix whitespace issue in columns\n",
    "df.columns = df.columns.str.strip()\n",
    "df.loc[:, 'Votes']"
   ]
  },
  {
   "cell_type": "code",
   "execution_count": 113,
   "metadata": {},
   "outputs": [
    {
     "data": {
      "text/plain": [
       "0        9.3\n",
       "1        9.2\n",
       "2         9.\n",
       "3       9,.0\n",
       "4       8,9f\n",
       "5       08.9\n",
       "6        8.9\n",
       "7        8.9\n",
       "8       8..8\n",
       "9        8.8\n",
       "10       8:8\n",
       "11       8.8\n",
       "12       8.8\n",
       "14     ++8.7\n",
       "15      8.7.\n",
       "16    8,7e-0\n",
       "17       8.7\n",
       "18       8.7\n",
       "19       8.6\n",
       "20       8.6\n",
       "21       8,6\n",
       "22       8.6\n",
       "23       8.6\n",
       "24       8.6\n",
       "25       8.6\n",
       "Name: Score, dtype: object"
      ]
     },
     "execution_count": 113,
     "metadata": {},
     "output_type": "execute_result"
    }
   ],
   "source": [
    "# check issues with score column\n",
    "df.loc[0:25,'Score']"
   ]
  },
  {
   "cell_type": "code",
   "execution_count": 114,
   "metadata": {},
   "outputs": [
    {
     "name": "stdout",
     "output_type": "stream",
     "text": [
      "   IMBD title ID                                  Original title\n",
      "3      tt0071562                          The Godfather: Part II\n",
      "4      tt0110912                                    Pulp Fiction\n",
      "8      tt1375666                                       Inception\n",
      "10     tt0109830                                    Forrest Gump\n",
      "14     tt0133093                                      The Matrix\n",
      "15     tt0167261           The Lord of the Rings: The Two Towers\n",
      "16     tt0080684  Star Wars: Episode V - The Empire Strikes Back\n",
      "21     tt0102926                        The Silence of the Lambs\n"
     ]
    }
   ],
   "source": [
    "# strip trailing/leading whitespaces\n",
    "df['Score'] = df['Score'].str.strip()\n",
    "\n",
    "# change to numeric and return NaN if not possible\n",
    "try:\n",
    "    df['Score'] = pd.to_numeric(df['Score'], errors='coerce')\n",
    "except ValueError as e:\n",
    "    print(f\"Error converting score column to numeric - {e}\")\n",
    "\n",
    "# print the values which are null\n",
    "print(df.loc[df['Score'].isnull()][['IMBD title ID', 'Original title']])"
   ]
  },
  {
   "cell_type": "code",
   "execution_count": 115,
   "metadata": {},
   "outputs": [],
   "source": [
    "# manually input values\n",
    "df.loc[3,'Score'] = float('9.0')\n",
    "df.loc[4,'Score'] = float('8.9')\n",
    "df.loc[8,'Score'] = float('8.8')\n",
    "df.loc[10,'Score'] = float('8.8')\n",
    "df.loc[14,'Score'] = float('8.7')\n",
    "df.loc[15,'Score'] = float('8.8')\n",
    "df.loc[16,'Score'] = float('8.7')\n",
    "df.loc[21,'Score'] = float('8.6')"
   ]
  },
  {
   "cell_type": "code",
   "execution_count": 116,
   "metadata": {},
   "outputs": [
    {
     "data": {
      "text/plain": [
       "0     9.3\n",
       "1     9.2\n",
       "2     9.0\n",
       "3     9.0\n",
       "4     8.9\n",
       "5     8.9\n",
       "6     8.9\n",
       "7     8.9\n",
       "8     8.8\n",
       "9     8.8\n",
       "10    8.8\n",
       "11    8.8\n",
       "12    8.8\n",
       "14    8.7\n",
       "15    8.8\n",
       "16    8.7\n",
       "17    8.7\n",
       "18    8.7\n",
       "19    8.6\n",
       "20    8.6\n",
       "21    8.6\n",
       "22    8.6\n",
       "23    8.6\n",
       "24    8.6\n",
       "25    8.6\n",
       "Name: Score, dtype: float64"
      ]
     },
     "execution_count": 116,
     "metadata": {},
     "output_type": "execute_result"
    }
   ],
   "source": [
    "# check all values are clean\n",
    "df.loc[:25,'Score']"
   ]
  },
  {
   "cell_type": "code",
   "execution_count": 117,
   "metadata": {},
   "outputs": [
    {
     "data": {
      "text/plain": [
       "0                           Drama\n",
       "1                    Crime, Drama\n",
       "2            Action, Crime, Drama\n",
       "3                    Crime, Drama\n",
       "4                    Crime, Drama\n",
       "                  ...            \n",
       "96           Comedy, Crime, Drama\n",
       "97     Adventure, Drama, Thriller\n",
       "98                        Western\n",
       "99                          Drama\n",
       "100      Comedy, Musical, Romance\n",
       "Name: Genre, Length: 100, dtype: object"
      ]
     },
     "execution_count": 117,
     "metadata": {},
     "output_type": "execute_result"
    }
   ],
   "source": [
    "df['Genre']"
   ]
  },
  {
   "cell_type": "code",
   "execution_count": 118,
   "metadata": {},
   "outputs": [],
   "source": [
    "df.to_csv('cleaned_IMDB.csv', index=False)"
   ]
  },
  {
   "cell_type": "markdown",
   "metadata": {},
   "source": [
    "# Step 3 - Visualise data\n",
    "- Answer a question using matplotlib\n",
    "- Question -> \"Can you provide a visual representation of the distribution of countries in your dataset?\""
   ]
  },
  {
   "cell_type": "code",
   "execution_count": 119,
   "metadata": {},
   "outputs": [
    {
     "data": {
      "image/png": "[encoded data removed]",
      "text/plain": [
       "<Figure size 640x480 with 1 Axes>"
      ]
     },
     "metadata": {},
     "output_type": "display_data"
    }
   ],
   "source": [
    "# Count occurrences of each country\n",
    "country_counts = df['Country'].value_counts()\n",
    "\n",
    "# label x and y axis\n",
    "x = country_counts.index\n",
    "y = country_counts.values\n",
    "\n",
    "# Plotting the bar chart\n",
    "plt.bar(x, y, color = \"LightSalmon\")\n",
    "\n",
    "# Adding labels and title\n",
    "plt.xlabel('Country')\n",
    "plt.ylabel('Count')\n",
    "plt.title('Country Distribution')\n",
    "\n",
    "# Rotating x-axis labels\n",
    "plt.xticks(rotation=45, ha='right')\n",
    "\n",
    "# Show the plot\n",
    "plt.show()\n"
   ]
  }
 ],
 "metadata": {
  "kernelspec": {
   "display_name": "Python 3",
   "language": "python",
   "name": "python3"
  },
  "language_info": {
   "codemirror_mode": {
    "name": "ipython",
    "version": 3
   },
   "file_extension": ".py",
   "mimetype": "text/x-python",
   "name": "python",
   "nbconvert_exporter": "python",
   "pygments_lexer": "ipython3",
   "version": "3.12.0"
  }
 },
 "nbformat": 4,
 "nbformat_minor": 2
}
